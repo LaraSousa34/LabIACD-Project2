{
  "cells": [
    {
      "cell_type": "markdown",
      "metadata": {},
      "source": [
        "### Necessary Imports  and Required Jupyter Notebooks"
      ]
    },
    {
      "cell_type": "code",
      "execution_count": 1,
      "metadata": {},
      "outputs": [],
      "source": [
        "import socket\n",
        "import random\n",
        "import time\n",
        "import torch"
      ]
    },
    {
      "cell_type": "code",
      "execution_count": 2,
      "metadata": {},
      "outputs": [],
      "source": [
        "%run Agent1.ipynb"
      ]
    },
    {
      "cell_type": "markdown",
      "metadata": {},
      "source": [
        "\n",
        "\n",
        "### Game Initialization\n",
        "\n",
        "We start by defining the size of the game, such as `\"A4x4\"` for a 4x4 board. The game size determines the complexity and the number of possible moves at each stage.\n",
        "\n",
        "### Connection Setup\n",
        "\n",
        "To interact with the game environment, we establish a connection to a server using socket programming. The server coordinates the flow of the game by sending the initial game state and responding to the moves made by the AlphaZero agent.\n",
        "\n",
        "### Agent Gameplay Loop\n",
        "\n",
        "Once connected, the agent enters a gameplay loop where it alternates between making moves and receiving responses from the server. The agent uses its `make_move` function to decide on the best action based on the current game state. This function internally calls the `selfPlay` method of the AlphaZero algorithm, which simulates games to determine the most promising move.\n",
        "\n",
        "The moves are sent to the server in a specified format, and the server's responses are processed to update the game state. The agent continues this loop until a terminal state is reached, signified by an `\"END\"` message from the server, indicating either a win, loss, or draw.\n",
        "\n",
        "### Game Conclusion\n",
        "\n",
        "At the end of the game, the agent closes the socket connection and prints the outcome of the game. If the agent is the last one to make a valid move before the game ends, it declares victory.\n",
        "\n",
        "This setup provides a framework for developing and testing AI agents for turn-based strategy games. The AlphaZero agent's performance can be further improved by training the underlying neural network on a dataset of high-quality game states and moves.\n"
      ]
    },
    {
      "cell_type": "code",
      "execution_count": 3,
      "metadata": {
        "trusted": true
      },
      "outputs": [
        {
          "name": "stdout",
          "output_type": "stream",
          "text": [
            "Server ResponseINIT: AG1 A4x4\n",
            "Playing: A4x4\n",
            "Send: MOVE 0,0,2,1\n",
            "Server Response1: VALID\n",
            "Server Response2: MOVE 0,0,2,1\n",
            "Send: MOVE 0,0,2,1\n",
            "Server Response1: VALID\n",
            "Server Response2: MOVE 0,0,2,1\n",
            "Send: MOVE 0,0,2,1\n",
            "Server Response1: VALID\n",
            "Server Response2: MOVE 0,0,2,1\n",
            "Send: MOVE 0,0,2,1\n",
            "Server Response1: VALID\n",
            "Server Response2: MOVE 0,0,2,1\n",
            "Send: MOVE 0,0,2,1\n",
            "Server Response1: VALID\n",
            "Server Response2: END 0 10 10\n",
            "Winner\n"
          ]
        }
      ],
      "source": [
        "# Define the game size, this variable will be used to determine the game board dimensions.\n",
        "Game=\"A4x4\" # Options include \"A6x6\", \"G7x7\", \"G9x9\", \"A5x5\"\n",
        "\n",
        "# Function to generate a random move for the Attax game, considering a single move.\n",
        "def generate_random_move():\n",
        "    x = random.randint(0, 9)\n",
        "    y = random.randint(0, 9)\n",
        "    return f\"MOVE {x},{y}\"\n",
        "\n",
        "# Function to generate a random move for the Attax game, considering a move from one position to another.\n",
        "def generate_random_move2():\n",
        "    x = random.randint(0, 9)\n",
        "    y = random.randint(0, 9)\n",
        "    x2 = random.randint(0, 9)\n",
        "    y2 = random.randint(0, 9)\n",
        "    return f\"MOVE {x},{y},{x2},{y2}\"\n",
        "\n",
        "# Function to connect to the game server using sockets.\n",
        "def connect_to_server(host='localhost', port=12345):\n",
        "    # Initialize the client socket.\n",
        "    client_socket = socket.socket(socket.AF_INET, socket.SOCK_STREAM)\n",
        "    # Establish the connection with the server.\n",
        "    client_socket.connect((host, port))\n",
        "    # Flag to determine if the game is finished.\n",
        "    flag=False\n",
        "    # Receive the initial response from the server.\n",
        "    response = client_socket.recv(1024).decode()\n",
        "    print(f\"Server ResponseINIT: {response}\")\n",
        "    \n",
        "    # Extract the game type from the server response.\n",
        "    Game = response[-4:]\n",
        "    print(\"Playing:\", Game)    \n",
        "\n",
        "    # Initialize the AlphaZeroAgent with the given game type.\n",
        "    agent=AlphaZeroAgent(Game)\n",
        "\n",
        "    # Determine the agent number based on the server response.\n",
        "    if \"1\" in response:\n",
        "        ag=1\n",
        "    else:\n",
        "        ag=2\n",
        "\n",
        "    # Variables to control the game loop.\n",
        "    first=True\n",
        "    run=True\n",
        "\n",
        "    # Game loop to handle move making and response processing.\n",
        "    while run:\n",
        "        # Check if it's the agent's turn to play.\n",
        "        if ag == 1 or not first:    \n",
        "            # Make a move using the AlphaZero algorithm.\n",
        "            move = agent.make_move(ag)\n",
        "            time.sleep(1)\n",
        "            \n",
        "            # Format the move to send to the server.\n",
        "            formatted_move = f\"MOVE {move.xi},{move.yi},{move.xf},{move.yf}\"\n",
        "            # Send the formatted move to the server.\n",
        "            client_socket.send(formatted_move.encode())\n",
        "            print(\"Send:\", formatted_move)\n",
        "        \n",
        "            # Wait for the server's response to the move.\n",
        "            response = client_socket.recv(1024).decode()\n",
        "            print(f\"Server Response1: {response}\")\n",
        "            # Check if the game has ended.\n",
        "            if \"END\" in response: break\n",
        "         \n",
        "        # Toggle the first-move flag after the first iteration.\n",
        "        first=False\n",
        "        # Receive the next response from the server.\n",
        "        response = client_socket.recv(1024).decode()\n",
        "        print(f\"Server Response2: {response}\")\n",
        "        # Process the server's response and update the game state.\n",
        "        run = agent.receive_response(response, ag)  \n",
        "\n",
        "        # Check if the game has ended and set the winner flag.\n",
        "        if(run==False):\n",
        "            flag=True\n",
        "            print(\"winner adversario\")\n",
        "        if \"END\" in response: break\n",
        "\n",
        "    # Check if the agent has won and print the result.\n",
        "    if(flag==False):\n",
        "        print(\"Winner\")\n",
        "    # Close the socket connection.\n",
        "    client_socket.close()\n",
        "\n",
        "# Run the connect_to_server function if the script is the main program.\n",
        "if __name__ == \"__main__\":\n",
        "    connect_to_server()\n"
      ]
    },
    {
      "cell_type": "code",
      "execution_count": null,
      "metadata": {
        "trusted": true
      },
      "outputs": [],
      "source": []
    }
  ],
  "metadata": {
    "kernelspec": {
      "display_name": "Python 3",
      "language": "python",
      "name": "python3"
    },
    "language_info": {
      "codemirror_mode": {
        "name": "ipython",
        "version": 3
      },
      "file_extension": ".py",
      "mimetype": "text/x-python",
      "name": "python",
      "nbconvert_exporter": "python",
      "pygments_lexer": "ipython3",
      "version": "3.9.5"
    }
  },
  "nbformat": 4,
  "nbformat_minor": 4
}
